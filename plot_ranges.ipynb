{
 "cells": [
  {
   "cell_type": "markdown",
   "metadata": {},
   "source": [
    "### LIBs (R)"
   ]
  },
  {
   "cell_type": "code",
   "execution_count": null,
   "metadata": {},
   "outputs": [],
   "source": [
    "\n",
    "# bibliotecas do python\n",
    "import rpy2.robjects as ro\n",
    "from rpy2.robjects.packages import importr\n",
    "import rpy2.robjects.packages as rpackages\n",
    "import numpy as np\n",
    "import pandas as pd\n",
    "import matplotlib.pyplot as plt"
   ]
  },
  {
   "cell_type": "code",
   "execution_count": null,
   "metadata": {},
   "outputs": [],
   "source": [
    "# bibliotecas do R\n",
    "base = importr('base')\n",
    "utils = importr('utils')\n",
    "utils.chooseCRANmirror(ind=1)\n",
    "ts_analysis = ('urca','tseries','forecast','e1071','Metrics')\n",
    "\n",
    "from rpy2.robjects.vectors import StrVector\n",
    "utils.install_packages(StrVector(ts_analysis))"
   ]
  },
  {
   "cell_type": "code",
   "execution_count": null,
   "metadata": {},
   "outputs": [],
   "source": [
    "# importando as bibliotecas do R usadas para predição\n",
    "# acho que so precisa importar uma vez. (demora)\n",
    "\n",
    "urca = importr('urca')\n",
    "tseries = importr('tseries')\n",
    "forecast = importr('forecast')\n",
    "e1071 = importr('e1071')\n",
    "metrics = importr('Metrics')"
   ]
  },
  {
   "cell_type": "code",
   "execution_count": null,
   "metadata": {},
   "outputs": [],
   "source": [
    "# %R - \"linha mágica\" - retorna valor como objeto python\n",
    "\n",
    "# %%R - \"célula mágica\" - nao retorna valor mas consegue passar input e output  \n",
    "\n",
    "# Arguments\n",
    "# -i  -  variaveis de input\n",
    "# -o  -  variaveis de output\n",
    "# -h  -  altura do plot\n",
    "# -w  -  largura do plot\n",
    "\n",
    "\n",
    "%load_ext rpy2.ipython"
   ]
  }
 ],
 "metadata": {
  "kernelspec": {
   "display_name": "Python 3.10.6 ('.rnp': venv)",
   "language": "python",
   "name": "python3"
  },
  "language_info": {
   "name": "python",
   "version": "3.10.6"
  },
  "orig_nbformat": 4,
  "vscode": {
   "interpreter": {
    "hash": "6bea626b9d949432431623f0412cee696c683e8f3b0fb2d1ad23c2b313415cda"
   }
  }
 },
 "nbformat": 4,
 "nbformat_minor": 2
}
