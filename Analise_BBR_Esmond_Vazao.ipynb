{
  "cells": [
    {
      "cell_type": "markdown",
      "metadata": {
        "id": "6tZJsFmkuRFy"
      },
      "source": [
        "### LIB (R)"
      ]
    },
    {
      "cell_type": "code",
      "execution_count": 1,
      "metadata": {
        "id": "tYUay14RrrHU"
      },
      "outputs": [],
      "source": [
        "# bibliotecas do python\n",
        "import rpy2.robjects as ro\n",
        "from rpy2.robjects.packages import importr\n",
        "import rpy2.robjects.packages as rpackages\n",
        "import numpy as np\n",
        "import pandas as pd\n",
        "import matplotlib.pyplot as plt"
      ]
    },
    {
      "cell_type": "code",
      "execution_count": 53,
      "metadata": {
        "colab": {
          "base_uri": "https://localhost:8080/"
        },
        "id": "NYmgg7VS4SuB",
        "outputId": "5ba3abe3-65cc-4537-c5d2-754542129c47"
      },
      "outputs": [
        {
          "name": "stderr",
          "output_type": "stream",
          "text": [
            "R[write to console]: Installing packages into ‘/home/rafa/R/x86_64-pc-linux-gnu-library/4.2’\n",
            "(as ‘lib’ is unspecified)\n",
            "\n",
            "R[write to console]: also installing the dependencies ‘TTR’, ‘curl’, ‘XML’, ‘quantmod’, ‘rlist’\n",
            "\n",
            "\n",
            "R[write to console]: trying URL 'https://cloud.r-project.org/src/contrib/TTR_0.24.3.tar.gz'\n",
            "\n",
            "R[write to console]: Content type 'application/x-gzip'\n",
            "R[write to console]:  length 317338 bytes (309 KB)\n",
            "\n",
            "R[write to console]: =\n",
            "R[write to console]: =\n",
            "R[write to console]: =\n",
            "R[write to console]: =\n",
            "R[write to console]: =\n",
            "R[write to console]: =\n",
            "R[write to console]: =\n",
            "R[write to console]: =\n",
            "R[write to console]: =\n",
            "R[write to console]: =\n",
            "R[write to console]: =\n",
            "R[write to console]: =\n",
            "R[write to console]: =\n",
            "R[write to console]: =\n",
            "R[write to console]: =\n",
            "R[write to console]: =\n",
            "R[write to console]: =\n",
            "R[write to console]: =\n",
            "R[write to console]: =\n",
            "R[write to console]: =\n",
            "R[write to console]: =\n",
            "R[write to console]: =\n",
            "R[write to console]: =\n",
            "R[write to console]: =\n",
            "R[write to console]: =\n",
            "R[write to console]: =\n",
            "R[write to console]: =\n",
            "R[write to console]: =\n",
            "R[write to console]: =\n",
            "R[write to console]: =\n",
            "R[write to console]: =\n",
            "R[write to console]: =\n",
            "R[write to console]: =\n",
            "R[write to console]: =\n",
            "R[write to console]: =\n",
            "R[write to console]: =\n",
            "R[write to console]: =\n",
            "R[write to console]: =\n",
            "R[write to console]: =\n",
            "R[write to console]: =\n",
            "R[write to console]: =\n",
            "R[write to console]: =\n",
            "R[write to console]: =\n",
            "R[write to console]: =\n",
            "R[write to console]: =\n",
            "R[write to console]: =\n",
            "R[write to console]: =\n",
            "R[write to console]: =\n",
            "R[write to console]: =\n",
            "R[write to console]: =\n",
            "R[write to console]: \n",
            "\n",
            "R[write to console]: downloaded 309 KB\n",
            "\n",
            "\n",
            "R[write to console]: trying URL 'https://cloud.r-project.org/src/contrib/curl_4.3.3.tar.gz'\n",
            "\n",
            "R[write to console]: Content type 'application/x-gzip'\n",
            "R[write to console]:  length 670416 bytes (654 KB)\n",
            "\n",
            "R[write to console]: =\n",
            "R[write to console]: =\n",
            "R[write to console]: =\n",
            "R[write to console]: =\n",
            "R[write to console]: =\n",
            "R[write to console]: =\n",
            "R[write to console]: =\n",
            "R[write to console]: =\n",
            "R[write to console]: =\n",
            "R[write to console]: =\n",
            "R[write to console]: =\n",
            "R[write to console]: =\n",
            "R[write to console]: =\n",
            "R[write to console]: =\n",
            "R[write to console]: =\n",
            "R[write to console]: =\n",
            "R[write to console]: =\n",
            "R[write to console]: =\n",
            "R[write to console]: =\n",
            "R[write to console]: =\n",
            "R[write to console]: =\n",
            "R[write to console]: =\n",
            "R[write to console]: =\n",
            "R[write to console]: =\n",
            "R[write to console]: =\n",
            "R[write to console]: =\n",
            "R[write to console]: =\n",
            "R[write to console]: =\n",
            "R[write to console]: =\n",
            "R[write to console]: =\n",
            "R[write to console]: =\n",
            "R[write to console]: =\n",
            "R[write to console]: =\n",
            "R[write to console]: =\n",
            "R[write to console]: =\n",
            "R[write to console]: =\n",
            "R[write to console]: =\n",
            "R[write to console]: =\n",
            "R[write to console]: =\n",
            "R[write to console]: =\n",
            "R[write to console]: =\n",
            "R[write to console]: =\n",
            "R[write to console]: =\n",
            "R[write to console]: =\n",
            "R[write to console]: =\n",
            "R[write to console]: =\n",
            "R[write to console]: =\n",
            "R[write to console]: =\n",
            "R[write to console]: =\n",
            "R[write to console]: =\n",
            "R[write to console]: \n",
            "\n",
            "R[write to console]: downloaded 654 KB\n",
            "\n",
            "\n",
            "R[write to console]: trying URL 'https://cloud.r-project.org/src/contrib/XML_3.99-0.11.tar.gz'\n",
            "\n",
            "R[write to console]: Content type 'application/x-gzip'\n",
            "R[write to console]:  length 970681 bytes (947 KB)\n",
            "\n",
            "R[write to console]: =\n",
            "R[write to console]: =\n",
            "R[write to console]: =\n",
            "R[write to console]: =\n",
            "R[write to console]: =\n",
            "R[write to console]: =\n",
            "R[write to console]: =\n",
            "R[write to console]: =\n",
            "R[write to console]: =\n",
            "R[write to console]: =\n",
            "R[write to console]: =\n",
            "R[write to console]: =\n",
            "R[write to console]: =\n",
            "R[write to console]: =\n",
            "R[write to console]: =\n",
            "R[write to console]: =\n",
            "R[write to console]: =\n",
            "R[write to console]: =\n",
            "R[write to console]: =\n",
            "R[write to console]: =\n",
            "R[write to console]: =\n",
            "R[write to console]: =\n",
            "R[write to console]: =\n",
            "R[write to console]: =\n",
            "R[write to console]: =\n",
            "R[write to console]: =\n",
            "R[write to console]: =\n",
            "R[write to console]: =\n",
            "R[write to console]: =\n",
            "R[write to console]: =\n",
            "R[write to console]: =\n",
            "R[write to console]: =\n",
            "R[write to console]: =\n",
            "R[write to console]: =\n",
            "R[write to console]: =\n",
            "R[write to console]: =\n",
            "R[write to console]: =\n",
            "R[write to console]: =\n",
            "R[write to console]: =\n",
            "R[write to console]: =\n",
            "R[write to console]: =\n",
            "R[write to console]: =\n",
            "R[write to console]: =\n",
            "R[write to console]: =\n",
            "R[write to console]: =\n",
            "R[write to console]: =\n",
            "R[write to console]: =\n",
            "R[write to console]: =\n",
            "R[write to console]: =\n",
            "R[write to console]: =\n",
            "R[write to console]: \n",
            "\n",
            "R[write to console]: downloaded 947 KB\n",
            "\n",
            "\n",
            "R[write to console]: trying URL 'https://cloud.r-project.org/src/contrib/quantmod_0.4.20.tar.gz'\n",
            "\n",
            "R[write to console]: Content type 'application/x-gzip'\n",
            "R[write to console]:  length 156640 bytes (152 KB)\n",
            "\n",
            "R[write to console]: =\n",
            "R[write to console]: =\n",
            "R[write to console]: =\n",
            "R[write to console]: =\n",
            "R[write to console]: =\n",
            "R[write to console]: =\n",
            "R[write to console]: =\n",
            "R[write to console]: =\n",
            "R[write to console]: =\n",
            "R[write to console]: =\n",
            "R[write to console]: =\n",
            "R[write to console]: =\n",
            "R[write to console]: =\n",
            "R[write to console]: =\n",
            "R[write to console]: =\n",
            "R[write to console]: =\n",
            "R[write to console]: =\n",
            "R[write to console]: =\n",
            "R[write to console]: =\n",
            "R[write to console]: =\n",
            "R[write to console]: =\n",
            "R[write to console]: =\n",
            "R[write to console]: =\n",
            "R[write to console]: =\n",
            "R[write to console]: =\n",
            "R[write to console]: =\n",
            "R[write to console]: =\n",
            "R[write to console]: =\n",
            "R[write to console]: =\n",
            "R[write to console]: =\n",
            "R[write to console]: =\n",
            "R[write to console]: =\n",
            "R[write to console]: =\n",
            "R[write to console]: =\n",
            "R[write to console]: =\n",
            "R[write to console]: =\n",
            "R[write to console]: =\n",
            "R[write to console]: =\n",
            "R[write to console]: =\n",
            "R[write to console]: =\n",
            "R[write to console]: =\n",
            "R[write to console]: =\n",
            "R[write to console]: =\n",
            "R[write to console]: =\n",
            "R[write to console]: =\n",
            "R[write to console]: =\n",
            "R[write to console]: =\n",
            "R[write to console]: =\n",
            "R[write to console]: =\n",
            "R[write to console]: =\n",
            "R[write to console]: \n",
            "\n",
            "R[write to console]: downloaded 152 KB\n",
            "\n",
            "\n",
            "R[write to console]: trying URL 'https://cloud.r-project.org/src/contrib/rlist_0.4.6.2.tar.gz'\n",
            "\n",
            "R[write to console]: Content type 'application/x-gzip'\n",
            "R[write to console]:  length 72870 bytes (71 KB)\n",
            "\n",
            "R[write to console]: =\n",
            "R[write to console]: =\n",
            "R[write to console]: =\n",
            "R[write to console]: =\n",
            "R[write to console]: =\n",
            "R[write to console]: =\n",
            "R[write to console]: =\n",
            "R[write to console]: =\n",
            "R[write to console]: =\n",
            "R[write to console]: =\n",
            "R[write to console]: =\n",
            "R[write to console]: =\n",
            "R[write to console]: =\n",
            "R[write to console]: =\n",
            "R[write to console]: =\n",
            "R[write to console]: =\n",
            "R[write to console]: =\n",
            "R[write to console]: =\n",
            "R[write to console]: =\n",
            "R[write to console]: =\n",
            "R[write to console]: =\n",
            "R[write to console]: =\n",
            "R[write to console]: =\n",
            "R[write to console]: =\n",
            "R[write to console]: =\n",
            "R[write to console]: =\n",
            "R[write to console]: =\n",
            "R[write to console]: =\n",
            "R[write to console]: =\n",
            "R[write to console]: =\n",
            "R[write to console]: =\n",
            "R[write to console]: =\n",
            "R[write to console]: =\n",
            "R[write to console]: =\n",
            "R[write to console]: =\n",
            "R[write to console]: =\n",
            "R[write to console]: =\n",
            "R[write to console]: =\n",
            "R[write to console]: =\n",
            "R[write to console]: =\n",
            "R[write to console]: =\n",
            "R[write to console]: =\n",
            "R[write to console]: =\n",
            "R[write to console]: =\n",
            "R[write to console]: =\n",
            "R[write to console]: =\n",
            "R[write to console]: =\n",
            "R[write to console]: =\n",
            "R[write to console]: =\n",
            "R[write to console]: =\n",
            "R[write to console]: \n",
            "\n",
            "R[write to console]: downloaded 71 KB\n",
            "\n",
            "\n",
            "R[write to console]: trying URL 'https://cloud.r-project.org/src/contrib/urca_1.3-3.tar.gz'\n",
            "\n",
            "R[write to console]: Content type 'application/x-gzip'\n",
            "R[write to console]:  length 682649 bytes (666 KB)\n",
            "\n",
            "R[write to console]: =\n",
            "R[write to console]: =\n",
            "R[write to console]: =\n",
            "R[write to console]: =\n",
            "R[write to console]: =\n",
            "R[write to console]: =\n",
            "R[write to console]: =\n",
            "R[write to console]: =\n",
            "R[write to console]: =\n",
            "R[write to console]: =\n",
            "R[write to console]: =\n",
            "R[write to console]: =\n",
            "R[write to console]: =\n",
            "R[write to console]: =\n",
            "R[write to console]: =\n",
            "R[write to console]: =\n",
            "R[write to console]: =\n",
            "R[write to console]: =\n",
            "R[write to console]: =\n",
            "R[write to console]: =\n",
            "R[write to console]: =\n",
            "R[write to console]: =\n",
            "R[write to console]: =\n",
            "R[write to console]: =\n",
            "R[write to console]: =\n",
            "R[write to console]: =\n",
            "R[write to console]: =\n",
            "R[write to console]: =\n",
            "R[write to console]: =\n",
            "R[write to console]: =\n",
            "R[write to console]: =\n",
            "R[write to console]: =\n",
            "R[write to console]: =\n",
            "R[write to console]: =\n",
            "R[write to console]: =\n",
            "R[write to console]: =\n",
            "R[write to console]: =\n",
            "R[write to console]: =\n",
            "R[write to console]: =\n",
            "R[write to console]: =\n",
            "R[write to console]: =\n",
            "R[write to console]: =\n",
            "R[write to console]: =\n",
            "R[write to console]: =\n",
            "R[write to console]: =\n",
            "R[write to console]: =\n",
            "R[write to console]: =\n",
            "R[write to console]: =\n",
            "R[write to console]: =\n",
            "R[write to console]: =\n",
            "R[write to console]: \n",
            "\n",
            "R[write to console]: downloaded 666 KB\n",
            "\n",
            "\n",
            "R[write to console]: trying URL 'https://cloud.r-project.org/src/contrib/tseries_0.10-52.tar.gz'\n",
            "\n",
            "R[write to console]: Content type 'application/x-gzip'\n",
            "R[write to console]:  length 165058 bytes (161 KB)\n",
            "\n",
            "R[write to console]: =\n",
            "R[write to console]: =\n",
            "R[write to console]: =\n",
            "R[write to console]: =\n",
            "R[write to console]: =\n",
            "R[write to console]: =\n",
            "R[write to console]: =\n",
            "R[write to console]: =\n",
            "R[write to console]: =\n",
            "R[write to console]: =\n",
            "R[write to console]: =\n",
            "R[write to console]: =\n",
            "R[write to console]: =\n",
            "R[write to console]: =\n",
            "R[write to console]: =\n",
            "R[write to console]: =\n",
            "R[write to console]: =\n",
            "R[write to console]: =\n",
            "R[write to console]: =\n",
            "R[write to console]: =\n",
            "R[write to console]: =\n",
            "R[write to console]: =\n",
            "R[write to console]: =\n",
            "R[write to console]: =\n",
            "R[write to console]: =\n",
            "R[write to console]: =\n",
            "R[write to console]: =\n",
            "R[write to console]: =\n",
            "R[write to console]: =\n",
            "R[write to console]: =\n",
            "R[write to console]: =\n",
            "R[write to console]: =\n",
            "R[write to console]: =\n",
            "R[write to console]: =\n",
            "R[write to console]: =\n",
            "R[write to console]: =\n",
            "R[write to console]: =\n",
            "R[write to console]: =\n",
            "R[write to console]: =\n",
            "R[write to console]: =\n",
            "R[write to console]: =\n",
            "R[write to console]: =\n",
            "R[write to console]: =\n",
            "R[write to console]: =\n",
            "R[write to console]: =\n",
            "R[write to console]: =\n",
            "R[write to console]: =\n",
            "R[write to console]: =\n",
            "R[write to console]: =\n",
            "R[write to console]: =\n",
            "R[write to console]: \n",
            "\n",
            "R[write to console]: downloaded 161 KB\n",
            "\n",
            "\n",
            "R[write to console]: trying URL 'https://cloud.r-project.org/src/contrib/forecast_8.18.tar.gz'\n",
            "\n",
            "R[write to console]: Content type 'application/x-gzip'\n",
            "R[write to console]:  length 588703 bytes (574 KB)\n",
            "\n",
            "R[write to console]: =\n",
            "R[write to console]: =\n",
            "R[write to console]: =\n",
            "R[write to console]: =\n",
            "R[write to console]: =\n",
            "R[write to console]: =\n",
            "R[write to console]: =\n",
            "R[write to console]: =\n",
            "R[write to console]: =\n",
            "R[write to console]: =\n",
            "R[write to console]: =\n",
            "R[write to console]: =\n",
            "R[write to console]: =\n",
            "R[write to console]: =\n",
            "R[write to console]: =\n",
            "R[write to console]: =\n",
            "R[write to console]: =\n",
            "R[write to console]: =\n",
            "R[write to console]: =\n",
            "R[write to console]: =\n",
            "R[write to console]: =\n",
            "R[write to console]: =\n",
            "R[write to console]: =\n",
            "R[write to console]: =\n",
            "R[write to console]: =\n",
            "R[write to console]: =\n",
            "R[write to console]: =\n",
            "R[write to console]: =\n",
            "R[write to console]: =\n",
            "R[write to console]: =\n",
            "R[write to console]: =\n",
            "R[write to console]: =\n",
            "R[write to console]: =\n",
            "R[write to console]: =\n",
            "R[write to console]: =\n",
            "R[write to console]: =\n",
            "R[write to console]: =\n",
            "R[write to console]: =\n",
            "R[write to console]: =\n",
            "R[write to console]: =\n",
            "R[write to console]: =\n",
            "R[write to console]: =\n",
            "R[write to console]: =\n",
            "R[write to console]: =\n",
            "R[write to console]: =\n",
            "R[write to console]: =\n",
            "R[write to console]: =\n",
            "R[write to console]: =\n",
            "R[write to console]: =\n",
            "R[write to console]: =\n",
            "R[write to console]: \n",
            "\n",
            "R[write to console]: downloaded 574 KB\n",
            "\n",
            "\n",
            "R[write to console]: trying URL 'https://cloud.r-project.org/src/contrib/e1071_1.7-12.tar.gz'\n",
            "\n",
            "R[write to console]: Content type 'application/x-gzip'\n",
            "R[write to console]:  length 326251 bytes (318 KB)\n",
            "\n",
            "R[write to console]: =\n",
            "R[write to console]: =\n",
            "R[write to console]: =\n",
            "R[write to console]: =\n",
            "R[write to console]: =\n",
            "R[write to console]: =\n",
            "R[write to console]: =\n",
            "R[write to console]: =\n",
            "R[write to console]: =\n",
            "R[write to console]: =\n",
            "R[write to console]: =\n",
            "R[write to console]: =\n",
            "R[write to console]: =\n",
            "R[write to console]: =\n",
            "R[write to console]: =\n",
            "R[write to console]: =\n",
            "R[write to console]: =\n",
            "R[write to console]: =\n",
            "R[write to console]: =\n",
            "R[write to console]: =\n",
            "R[write to console]: =\n",
            "R[write to console]: =\n",
            "R[write to console]: =\n",
            "R[write to console]: =\n",
            "R[write to console]: =\n",
            "R[write to console]: =\n",
            "R[write to console]: =\n",
            "R[write to console]: =\n",
            "R[write to console]: =\n",
            "R[write to console]: =\n",
            "R[write to console]: =\n",
            "R[write to console]: =\n",
            "R[write to console]: =\n",
            "R[write to console]: =\n",
            "R[write to console]: =\n",
            "R[write to console]: =\n",
            "R[write to console]: =\n",
            "R[write to console]: =\n",
            "R[write to console]: =\n",
            "R[write to console]: =\n",
            "R[write to console]: =\n",
            "R[write to console]: =\n",
            "R[write to console]: =\n",
            "R[write to console]: =\n",
            "R[write to console]: =\n",
            "R[write to console]: =\n",
            "R[write to console]: =\n",
            "R[write to console]: =\n",
            "R[write to console]: =\n",
            "R[write to console]: =\n",
            "R[write to console]: \n",
            "\n",
            "R[write to console]: downloaded 318 KB\n",
            "\n",
            "\n",
            "R[write to console]: trying URL 'https://cloud.r-project.org/src/contrib/Metrics_0.1.4.tar.gz'\n",
            "\n",
            "R[write to console]: Content type 'application/x-gzip'\n",
            "R[write to console]:  length 14898 bytes (14 KB)\n",
            "\n",
            "R[write to console]: =\n",
            "R[write to console]: =\n",
            "R[write to console]: =\n",
            "R[write to console]: =\n",
            "R[write to console]: =\n",
            "R[write to console]: =\n",
            "R[write to console]: =\n",
            "R[write to console]: =\n",
            "R[write to console]: =\n",
            "R[write to console]: =\n",
            "R[write to console]: =\n",
            "R[write to console]: =\n",
            "R[write to console]: =\n",
            "R[write to console]: =\n",
            "R[write to console]: =\n",
            "R[write to console]: =\n",
            "R[write to console]: =\n",
            "R[write to console]: =\n",
            "R[write to console]: =\n",
            "R[write to console]: =\n",
            "R[write to console]: =\n",
            "R[write to console]: =\n",
            "R[write to console]: =\n",
            "R[write to console]: =\n",
            "R[write to console]: =\n",
            "R[write to console]: =\n",
            "R[write to console]: =\n",
            "R[write to console]: =\n",
            "R[write to console]: =\n",
            "R[write to console]: =\n",
            "R[write to console]: =\n",
            "R[write to console]: =\n",
            "R[write to console]: =\n",
            "R[write to console]: =\n",
            "R[write to console]: =\n",
            "R[write to console]: =\n",
            "R[write to console]: =\n",
            "R[write to console]: =\n",
            "R[write to console]: =\n",
            "R[write to console]: =\n",
            "R[write to console]: =\n",
            "R[write to console]: =\n",
            "R[write to console]: =\n",
            "R[write to console]: =\n",
            "R[write to console]: =\n",
            "R[write to console]: =\n",
            "R[write to console]: =\n",
            "R[write to console]: =\n",
            "R[write to console]: =\n",
            "R[write to console]: =\n",
            "R[write to console]: \n",
            "\n",
            "R[write to console]: downloaded 14 KB\n",
            "\n",
            "\n",
            "R[write to console]: trying URL 'https://cloud.r-project.org/src/contrib/highcharter_0.9.4.tar.gz'\n",
            "\n",
            "R[write to console]: Content type 'application/x-gzip'\n",
            "R[write to console]:  length 1073325 bytes (1.0 MB)\n",
            "\n",
            "R[write to console]: =\n",
            "R[write to console]: =\n",
            "R[write to console]: =\n",
            "R[write to console]: =\n",
            "R[write to console]: =\n",
            "R[write to console]: =\n",
            "R[write to console]: =\n",
            "R[write to console]: =\n",
            "R[write to console]: =\n",
            "R[write to console]: =\n",
            "R[write to console]: =\n",
            "R[write to console]: =\n",
            "R[write to console]: =\n",
            "R[write to console]: =\n",
            "R[write to console]: =\n",
            "R[write to console]: =\n",
            "R[write to console]: =\n",
            "R[write to console]: =\n",
            "R[write to console]: =\n",
            "R[write to console]: =\n",
            "R[write to console]: =\n",
            "R[write to console]: =\n",
            "R[write to console]: =\n",
            "R[write to console]: =\n",
            "R[write to console]: =\n",
            "R[write to console]: =\n",
            "R[write to console]: =\n",
            "R[write to console]: =\n",
            "R[write to console]: =\n",
            "R[write to console]: =\n",
            "R[write to console]: =\n",
            "R[write to console]: =\n",
            "R[write to console]: =\n",
            "R[write to console]: =\n",
            "R[write to console]: =\n",
            "R[write to console]: =\n",
            "R[write to console]: =\n",
            "R[write to console]: =\n",
            "R[write to console]: =\n",
            "R[write to console]: =\n",
            "R[write to console]: =\n",
            "R[write to console]: =\n",
            "R[write to console]: =\n",
            "R[write to console]: =\n",
            "R[write to console]: =\n",
            "R[write to console]: =\n",
            "R[write to console]: =\n",
            "R[write to console]: =\n",
            "R[write to console]: =\n",
            "R[write to console]: =\n",
            "R[write to console]: \n",
            "\n",
            "R[write to console]: downloaded 1.0 MB\n",
            "\n",
            "\n",
            "* installing *source* package ‘curl’ ...\n",
            "** package ‘curl’ successfully unpacked and MD5 sums checked\n",
            "** using staged installation\n",
            "Package libcurl was not found in the pkg-config search path.\n",
            "Perhaps you should add the directory containing `libcurl.pc'\n",
            "to the PKG_CONFIG_PATH environment variable\n",
            "No package 'libcurl' found\n",
            "Package libcurl was not found in the pkg-config search path.\n",
            "Perhaps you should add the directory containing `libcurl.pc'\n",
            "to the PKG_CONFIG_PATH environment variable\n",
            "No package 'libcurl' found\n",
            "ERROR: configuration failed for package ‘curl’\n",
            "* removing ‘/home/rafa/R/x86_64-pc-linux-gnu-library/4.2/curl’\n"
          ]
        },
        {
          "name": "stdout",
          "output_type": "stream",
          "text": [
            "Using PKG_CFLAGS=\n",
            "Using PKG_LIBS=-lcurl\n",
            "------------------------- ANTICONF ERROR ---------------------------\n",
            "Configuration failed because libcurl was not found. Try installing:\n",
            " * deb: libcurl4-openssl-dev (Debian, Ubuntu, etc)\n",
            " * rpm: libcurl-devel (Fedora, CentOS, RHEL)\n",
            "If libcurl is already installed, check that 'pkg-config' is in your\n",
            "PATH and PKG_CONFIG_PATH contains a libcurl.pc file. If pkg-config\n",
            "is unavailable you can set INCLUDE_DIR and LIB_DIR manually via:\n",
            "R CMD INSTALL --configure-vars='INCLUDE_DIR=... LIB_DIR=...'\n",
            "--------------------------------------------------------------------\n"
          ]
        },
        {
          "name": "stderr",
          "output_type": "stream",
          "text": [
            "* installing *source* package ‘XML’ ...\n",
            "** package ‘XML’ successfully unpacked and MD5 sums checked\n",
            "** using staged installation\n"
          ]
        },
        {
          "name": "stdout",
          "output_type": "stream",
          "text": [
            "checking for gcc... gcc\n",
            "checking whether the C compiler works... yes\n",
            "checking for C compiler default output file name... a.out\n",
            "checking for suffix of executables... \n",
            "checking whether we are cross compiling... no\n",
            "checking for suffix of object files... o\n",
            "checking whether the compiler supports GNU C... yes\n",
            "checking whether gcc accepts -g... yes\n",
            "checking for gcc option to enable C11 features... none needed\n",
            "checking how to run the C preprocessor... gcc -E\n",
            "checking for sed... /bin/sed\n",
            "checking for pkg-config... /usr/bin/pkg-config\n",
            "checking for xml2-config... no\n",
            "Cannot find xml2-config\n"
          ]
        },
        {
          "name": "stderr",
          "output_type": "stream",
          "text": [
            "ERROR: configuration failed for package ‘XML’\n",
            "* removing ‘/home/rafa/R/x86_64-pc-linux-gnu-library/4.2/XML’\n",
            "* installing *source* package ‘urca’ ...\n",
            "** package ‘urca’ successfully unpacked and MD5 sums checked\n",
            "** using staged installation\n",
            "** libs\n",
            "UnitRootMacKinnon.f:502:72:\n",
            "\n",
            "  502 |       do 21 k=1,nobs\n",
            "      |                                                                        1\n",
            "Warning: Fortran 2018 deleted feature: Shared DO termination label 21 at (1)\n",
            "UnitRootMacKinnon.f:505:72:\n",
            "\n",
            "  505 |       do 24 l=j,nvar\n",
            "      |                                                                        1\n",
            "Warning: Fortran 2018 deleted feature: Shared DO termination label 24 at (1)\n",
            "UnitRootMacKinnon.f:524:72:\n",
            "\n",
            "  524 |       do 5 j=1,nvar\n",
            "      |                                                                        1\n",
            "Warning: Fortran 2018 deleted feature: Shared DO termination label 5 at (1)\n",
            "UnitRootMacKinnon.f:570:72:\n",
            "\n",
            "  570 |     3   amat(i,j) = amat(i,j) - amat(k,i)*amat(k,j)\n",
            "      |                                                                        1\n",
            "Warning: Fortran 2018 deleted feature: DO termination statement which is not END DO or CONTINUE with label 3 at (1)\n",
            "UnitRootMacKinnon.f:595:72:\n",
            "\n",
            "  595 |    11 t = t - amat(i,k)*amat(k,j)\n",
            "      |                                                                        1\n",
            "Warning: Fortran 2018 deleted feature: DO termination statement which is not END DO or CONTINUE with label 11 at (1)\n",
            "UnitRootMacKinnon.f:596:72:\n",
            "\n",
            "  596 |    12 amat(i,j) = t*ooa\n",
            "      |                                                                        1\n",
            "Warning: Fortran 2018 deleted feature: DO termination statement which is not END DO or CONTINUE with label 12 at (1)\n",
            "UnitRootMacKinnon.f:602:72:\n",
            "\n",
            "  602 |    14 t = t + amat(i,k)*amat(j,k)\n",
            "      |                                                                        1\n",
            "Warning: Fortran 2018 deleted feature: DO termination statement which is not END DO or CONTINUE with label 14 at (1)\n"
          ]
        },
        {
          "name": "stdout",
          "output_type": "stream",
          "text": [
            "gfortran -fno-optimize-sibling-calls  -fpic  -g -O2 -ffile-prefix-map=/build/r-base-B0JOZP/r-base-4.2.1=. -fstack-protector-strong  -c UnitRootMacKinnon.f -o UnitRootMacKinnon.o\n",
            "gcc -I\"/usr/share/R/include\" -DNDEBUG      -fpic  -g -O2 -ffile-prefix-map=/build/r-base-B0JOZP/r-base-4.2.1=. -fstack-protector-strong -Wformat -Werror=format-security -Wdate-time -D_FORTIFY_SOURCE=2  -c urca_init.c -o urca_init.o\n",
            "gcc -shared -L/usr/lib/R/lib -Wl,-Bsymbolic-functions -flto=auto -ffat-lto-objects -flto=auto -Wl,-z,relro -o urca.so UnitRootMacKinnon.o urca_init.o -llapack -lblas -lgfortran -lm -lquadmath -lgfortran -lm -lquadmath -L/usr/lib/R/lib -lR\n"
          ]
        },
        {
          "name": "stderr",
          "output_type": "stream",
          "text": [
            "installing to /home/rafa/R/x86_64-pc-linux-gnu-library/4.2/00LOCK-urca/00new/urca/libs\n",
            "** R\n",
            "** data\n",
            "** inst\n",
            "** byte-compile and prepare package for lazy loading\n",
            "** help\n",
            "*** installing help indices\n",
            "** building package indices\n",
            "** testing if installed package can be loaded from temporary location\n",
            "** checking absolute paths in shared objects and dynamic libraries\n",
            "** testing if installed package can be loaded from final location\n",
            "** testing if installed package keeps a record of temporary installation path\n",
            "* DONE (urca)\n",
            "* installing *source* package ‘e1071’ ...\n",
            "** package ‘e1071’ successfully unpacked and MD5 sums checked\n",
            "** using staged installation\n",
            "** libs\n"
          ]
        },
        {
          "name": "stdout",
          "output_type": "stream",
          "text": [
            "gcc -I\"/usr/share/R/include\" -DNDEBUG      -fpic  -g -O2 -ffile-prefix-map=/build/r-base-B0JOZP/r-base-4.2.1=. -fstack-protector-strong -Wformat -Werror=format-security -Wdate-time -D_FORTIFY_SOURCE=2  -c Rsvm.c -o Rsvm.o\n",
            "gcc -I\"/usr/share/R/include\" -DNDEBUG      -fpic  -g -O2 -ffile-prefix-map=/build/r-base-B0JOZP/r-base-4.2.1=. -fstack-protector-strong -Wformat -Werror=format-security -Wdate-time -D_FORTIFY_SOURCE=2  -c cmeans.c -o cmeans.o\n",
            "gcc -I\"/usr/share/R/include\" -DNDEBUG      -fpic  -g -O2 -ffile-prefix-map=/build/r-base-B0JOZP/r-base-4.2.1=. -fstack-protector-strong -Wformat -Werror=format-security -Wdate-time -D_FORTIFY_SOURCE=2  -c cshell.c -o cshell.o\n",
            "gcc -I\"/usr/share/R/include\" -DNDEBUG      -fpic  -g -O2 -ffile-prefix-map=/build/r-base-B0JOZP/r-base-4.2.1=. -fstack-protector-strong -Wformat -Werror=format-security -Wdate-time -D_FORTIFY_SOURCE=2  -c floyd.c -o floyd.o\n",
            "gcc -I\"/usr/share/R/include\" -DNDEBUG      -fpic  -g -O2 -ffile-prefix-map=/build/r-base-B0JOZP/r-base-4.2.1=. -fstack-protector-strong -Wformat -Werror=format-security -Wdate-time -D_FORTIFY_SOURCE=2  -c init.c -o init.o\n",
            "g++ -std=gnu++14 -I\"/usr/share/R/include\" -DNDEBUG      -fpic  -g -O2 -ffile-prefix-map=/build/r-base-B0JOZP/r-base-4.2.1=. -fstack-protector-strong -Wformat -Werror=format-security -Wdate-time -D_FORTIFY_SOURCE=2  -c svm.cpp -o svm.o\n",
            "g++ -std=gnu++14 -shared -L/usr/lib/R/lib -Wl,-Bsymbolic-functions -flto=auto -ffat-lto-objects -flto=auto -Wl,-z,relro -o e1071.so Rsvm.o cmeans.o cshell.o floyd.o init.o svm.o -L/usr/lib/R/lib -lR\n"
          ]
        },
        {
          "name": "stderr",
          "output_type": "stream",
          "text": [
            "installing to /home/rafa/R/x86_64-pc-linux-gnu-library/4.2/00LOCK-e1071/00new/e1071/libs\n",
            "** R\n",
            "** inst\n",
            "** byte-compile and prepare package for lazy loading\n",
            "** help\n",
            "*** installing help indices\n",
            "** building package indices\n",
            "** installing vignettes\n",
            "** testing if installed package can be loaded from temporary location\n",
            "** checking absolute paths in shared objects and dynamic libraries\n",
            "** testing if installed package can be loaded from final location\n",
            "** testing if installed package keeps a record of temporary installation path\n",
            "* DONE (e1071)\n",
            "* installing *source* package ‘Metrics’ ...\n",
            "** package ‘Metrics’ successfully unpacked and MD5 sums checked\n",
            "** using staged installation\n",
            "** R\n",
            "** byte-compile and prepare package for lazy loading\n",
            "** help\n",
            "*** installing help indices\n",
            "** building package indices\n",
            "** testing if installed package can be loaded from temporary location\n",
            "** testing if installed package can be loaded from final location\n",
            "** testing if installed package keeps a record of temporary installation path\n",
            "* DONE (Metrics)\n",
            "ERROR: dependency ‘curl’ is not available for package ‘TTR’\n",
            "* removing ‘/home/rafa/R/x86_64-pc-linux-gnu-library/4.2/TTR’\n",
            "ERROR: dependency ‘XML’ is not available for package ‘rlist’\n",
            "* removing ‘/home/rafa/R/x86_64-pc-linux-gnu-library/4.2/rlist’\n",
            "ERROR: dependencies ‘TTR’, ‘curl’ are not available for package ‘quantmod’\n",
            "* removing ‘/home/rafa/R/x86_64-pc-linux-gnu-library/4.2/quantmod’\n",
            "ERROR: dependency ‘quantmod’ is not available for package ‘tseries’\n",
            "* removing ‘/home/rafa/R/x86_64-pc-linux-gnu-library/4.2/tseries’\n",
            "ERROR: dependencies ‘rlist’, ‘quantmod’ are not available for package ‘highcharter’\n",
            "* removing ‘/home/rafa/R/x86_64-pc-linux-gnu-library/4.2/highcharter’\n",
            "ERROR: dependency ‘tseries’ is not available for package ‘forecast’\n",
            "* removing ‘/home/rafa/R/x86_64-pc-linux-gnu-library/4.2/forecast’\n",
            "R[write to console]: \n",
            "\n",
            "R[write to console]: \n",
            "R[write to console]: The downloaded source packages are in\n",
            "\t‘/tmp/RtmpIwMVps/downloaded_packages’\n",
            "R[write to console]: \n",
            "R[write to console]: \n",
            "\n"
          ]
        },
        {
          "data": {
            "text/plain": [
              "<rpy2.rinterface_lib.sexp.NULLType object at 0x7f48784923c0> [RTYPES.NILSXP]"
            ]
          },
          "execution_count": 53,
          "metadata": {},
          "output_type": "execute_result"
        }
      ],
      "source": [
        "# bibliotecas do R\n",
        "base = importr('base')\n",
        "utils = importr('utils')\n",
        "utils.chooseCRANmirror(ind=1)\n",
        "ts_analysis = ('urca','tseries','forecast','e1071','Metrics','highcharter')\n",
        "\n",
        "\n",
        "\n",
        "from rpy2.robjects.vectors import StrVector\n",
        "utils.install_packages(StrVector(ts_analysis))"
      ]
    },
    {
      "cell_type": "code",
      "execution_count": 15,
      "metadata": {
        "id": "mcr1F4ue4UkE"
      },
      "outputs": [
        {
          "ename": "PackageNotInstalledError",
          "evalue": "The R package \"tseries\" is not installed.",
          "output_type": "error",
          "traceback": [
            "\u001b[0;31m---------------------------------------------------------------------------\u001b[0m",
            "\u001b[0;31mPackageNotInstalledError\u001b[0m                  Traceback (most recent call last)",
            "Cell \u001b[0;32mIn [15], line 5\u001b[0m\n\u001b[1;32m      1\u001b[0m \u001b[39m# importando as bibliotecas do R usadas para predição\u001b[39;00m\n\u001b[1;32m      2\u001b[0m \u001b[39m# acho que so precisa importar uma vez. (demora)\u001b[39;00m\n\u001b[1;32m      4\u001b[0m urca \u001b[39m=\u001b[39m importr(\u001b[39m'\u001b[39m\u001b[39murca\u001b[39m\u001b[39m'\u001b[39m)\n\u001b[0;32m----> 5\u001b[0m tseries \u001b[39m=\u001b[39m importr(\u001b[39m'\u001b[39;49m\u001b[39mtseries\u001b[39;49m\u001b[39m'\u001b[39;49m)\n\u001b[1;32m      6\u001b[0m forecast \u001b[39m=\u001b[39m importr(\u001b[39m'\u001b[39m\u001b[39mforecast\u001b[39m\u001b[39m'\u001b[39m)\n\u001b[1;32m      7\u001b[0m e1071 \u001b[39m=\u001b[39m importr(\u001b[39m'\u001b[39m\u001b[39me1071\u001b[39m\u001b[39m'\u001b[39m)\n",
            "File \u001b[0;32m~/Desktop/RNP-Projects/.rnp/lib/python3.10/site-packages/rpy2/robjects/packages.py:472\u001b[0m, in \u001b[0;36mimportr\u001b[0;34m(name, lib_loc, robject_translations, signature_translation, suppress_messages, on_conflict, symbol_r2python, symbol_resolve, data)\u001b[0m\n\u001b[1;32m    440\u001b[0m \u001b[39m\"\"\" Import an R package.\u001b[39;00m\n\u001b[1;32m    441\u001b[0m \n\u001b[1;32m    442\u001b[0m \u001b[39mArguments:\u001b[39;00m\n\u001b[0;32m   (...)\u001b[0m\n\u001b[1;32m    468\u001b[0m \n\u001b[1;32m    469\u001b[0m \u001b[39m\"\"\"\u001b[39;00m\n\u001b[1;32m    471\u001b[0m \u001b[39mif\u001b[39;00m \u001b[39mnot\u001b[39;00m isinstalled(name, lib_loc\u001b[39m=\u001b[39mlib_loc):\n\u001b[0;32m--> 472\u001b[0m     \u001b[39mraise\u001b[39;00m PackageNotInstalledError(\n\u001b[1;32m    473\u001b[0m         \u001b[39m'\u001b[39m\u001b[39mThe R package \u001b[39m\u001b[39m\"\u001b[39m\u001b[39m%s\u001b[39;00m\u001b[39m\"\u001b[39m\u001b[39m is not installed.\u001b[39m\u001b[39m'\u001b[39m \u001b[39m%\u001b[39m name\n\u001b[1;32m    474\u001b[0m     )\n\u001b[1;32m    476\u001b[0m \u001b[39mif\u001b[39;00m suppress_messages:\n\u001b[1;32m    477\u001b[0m     ok \u001b[39m=\u001b[39m quiet_require(name, lib_loc\u001b[39m=\u001b[39mlib_loc)\n",
            "\u001b[0;31mPackageNotInstalledError\u001b[0m: The R package \"tseries\" is not installed."
          ]
        }
      ],
      "source": [
        "# importando as bibliotecas do R usadas para predição\n",
        "# acho que so precisa importar uma vez. (demora)\n",
        "\n",
        "urca = importr('urca')\n",
        "tseries = importr('tseries')\n",
        "forecast = importr('forecast')\n",
        "e1071 = importr('e1071')\n",
        "metrics = importr('Metrics')\n",
        "highcharter = importr('highcharter')"
      ]
    },
    {
      "cell_type": "code",
      "execution_count": 4,
      "metadata": {
        "id": "e2s7VmTgrc6q"
      },
      "outputs": [],
      "source": [
        "# %R - \"linha mágica\" - retorna valor como objeto python\n",
        "\n",
        "# %%R - \"célula mágica\" - nao retorna valor mas consegue passar input e output  \n",
        "\n",
        "# Arguments\n",
        "# -i  -  variaveis de input\n",
        "# -o  -  variaveis de output\n",
        "# -h  -  altura do plot\n",
        "# -w  -  largura do plot\n",
        "\n",
        "\n",
        "%load_ext rpy2.ipython"
      ]
    },
    {
      "cell_type": "markdown",
      "metadata": {
        "id": "tMjqJvvrwgT6"
      },
      "source": [
        "### Throughput Total (PRA - Remoção de Erros de Ciclo)"
      ]
    },
    {
      "cell_type": "code",
      "execution_count": null,
      "metadata": {
        "id": "4XDLuzvXw6bo"
      },
      "outputs": [],
      "source": [
        "TS = pd.read_csv(r'/content/bbr esmond data 10-18-2022')"
      ]
    },
    {
      "cell_type": "code",
      "execution_count": 52,
      "metadata": {
        "colab": {
          "base_uri": "https://localhost:8080/",
          "height": 417
        },
        "id": "3uJiv_yKxCpo",
        "outputId": "486c10a0-dddf-4614-d5f5-816df3239d7a"
      },
      "outputs": [
        {
          "name": "stderr",
          "output_type": "stream",
          "text": [
            "UsageError: Cell magic `%%R` not found.\n"
          ]
        }
      ],
      "source": [
        "%%R -i TS -h 400 -w 800\n",
        "\n",
        "TS_R = TS\n",
        "\n",
        "TSbbr = ts(TS_R[,2], start = c(1, 1), frequency = 6)\n",
        "\n",
        "par (mfrow = c(1,1))\n",
        "plot(TSbbr, main = \"Vazão BBR\", ylab = \"Vazão\")\n"
      ]
    },
    {
      "cell_type": "code",
      "execution_count": 28,
      "metadata": {
        "id": "ENY0mNxtBkGL"
      },
      "outputs": [],
      "source": [
        "%%R -w 700 -h 400 # Decomposição da Série (Observação de tendencia e sazonaliadade)\n",
        "\n",
        "tsadditive = decompose(TSbbr, type = \"additive\")\n",
        "tsmult = decompose(TSbbr, type = \"multiplicative\")"
      ]
    },
    {
      "cell_type": "code",
      "execution_count": 29,
      "metadata": {
        "id": "a-K0Qn3bt4Ly"
      },
      "outputs": [],
      "source": [
        "%%R -o random_ad # Variavel aleatoria\n",
        "\n",
        "random_ad = tsadditive$random"
      ]
    },
    {
      "cell_type": "code",
      "execution_count": 30,
      "metadata": {
        "id": "wI-QkdznAxyr"
      },
      "outputs": [],
      "source": [
        "%%R -o random_mt # Variavel aleatoria\n",
        "\n",
        "random_mt = tsmult$random"
      ]
    },
    {
      "cell_type": "code",
      "execution_count": 31,
      "metadata": {
        "id": "E-uypnalBWMs"
      },
      "outputs": [],
      "source": [
        "random_mt = pd.DataFrame(random_mt)\n",
        "random_ad = pd.DataFrame(random_ad)"
      ]
    },
    {
      "cell_type": "code",
      "execution_count": 32,
      "metadata": {
        "id": "azFvh_M_Le53"
      },
      "outputs": [],
      "source": [
        "%%R \n",
        "random_ad = na.omit(random_ad)\n",
        "random_mt = na.omit(random_mt)"
      ]
    },
    {
      "cell_type": "markdown",
      "metadata": {
        "id": "k7zV8sBayqBl"
      },
      "source": [
        "### Teste de Estacionariedade (Serie Total - Observação)"
      ]
    },
    {
      "cell_type": "code",
      "execution_count": 33,
      "metadata": {
        "id": "Nir2JfwZynfk"
      },
      "outputs": [],
      "source": [
        "%%R -h 400 -w 1000 # Teste de estacionariedade para cada tipo de decomposição\n",
        "\n",
        "kpss_add = ur.kpss(random_ad)\n",
        "kpss_mul = ur.kpss(random_mt)\n",
        "\n",
        "adf_add = ur.df(random_ad)\n",
        "adf_mul = ur.df(random_mt)\n",
        "\n",
        "pp_add = ur.pp(random_ad)\n",
        "pp_mul = ur.pp(random_mt)"
      ]
    },
    {
      "cell_type": "code",
      "execution_count": 34,
      "metadata": {
        "colab": {
          "base_uri": "https://localhost:8080/"
        },
        "id": "96O-ASUj5mkq",
        "outputId": "8152e78e-dc59-4d8d-f454-ec370e64634d"
      },
      "outputs": [
        {
          "name": "stdout",
          "output_type": "stream",
          "text": [
            "\n",
            "####################################### \n",
            "# KPSS Unit Root / Cointegration Test # \n",
            "####################################### \n",
            "\n",
            "The value of the test statistic is: 0.0084 \n",
            "\n",
            "\n",
            "####################################### \n",
            "# KPSS Unit Root / Cointegration Test # \n",
            "####################################### \n",
            "\n",
            "The value of the test statistic is: 0.0084 \n",
            "\n",
            "\n",
            "############################################################### \n",
            "# Augmented Dickey-Fuller Test Unit Root / Cointegration Test # \n",
            "############################################################### \n",
            "\n",
            "The value of the test statistic is: -23.7792 \n",
            "\n",
            "\n",
            "############################################################### \n",
            "# Augmented Dickey-Fuller Test Unit Root / Cointegration Test # \n",
            "############################################################### \n",
            "\n",
            "The value of the test statistic is: -0.0507 \n",
            "\n",
            "\n",
            "################################################## \n",
            "# Phillips-Perron Unit Root / Cointegration Test # \n",
            "################################################## \n",
            "\n",
            "The value of the test statistic is: -454.5692 \n",
            "\n",
            "\n",
            "################################################## \n",
            "# Phillips-Perron Unit Root / Cointegration Test # \n",
            "################################################## \n",
            "\n",
            "The value of the test statistic is: -454.6245 \n",
            "\n"
          ]
        }
      ],
      "source": [
        "%%R\n",
        "\n",
        "print(kpss_add)\n",
        "print(kpss_mul)\n",
        "\n",
        "print(adf_add)\n",
        "print(adf_mul)\n",
        "\n",
        "print(pp_add)\n",
        "print(pp_mul)"
      ]
    },
    {
      "cell_type": "code",
      "execution_count": 35,
      "metadata": {
        "colab": {
          "base_uri": "https://localhost:8080/"
        },
        "id": "trsyUe4YxVJu",
        "outputId": "26f31572-c5a0-4eff-c93d-8d652667a006"
      },
      "outputs": [
        {
          "name": "stdout",
          "output_type": "stream",
          "text": [
            "NULL\n"
          ]
        }
      ],
      "source": [
        "%%R\n",
        "\n",
        "#kpss_add@teststat"
      ]
    },
    {
      "cell_type": "markdown",
      "metadata": {
        "id": "wWzXZxMoPwTD"
      },
      "source": [
        "### Separar Conjuntos"
      ]
    },
    {
      "cell_type": "code",
      "execution_count": 36,
      "metadata": {
        "id": "pWANFdT8sAPx"
      },
      "outputs": [],
      "source": [
        "%%R # Separar conjuntos de treino\n",
        "\n",
        "conjunto_treino = c(\"mytsTrain8\",\n",
        "                    \"mytsTrain16\",\n",
        "                    \"mytsTrain24\",\n",
        "                    \"mytsTrain32\",\n",
        "                    \"mytsTrain40\",\n",
        "                    \"mytsTrain48\",\n",
        "                    \"mytsTrain56\",\n",
        "                    \"mytsTrain64\",\n",
        "                    \"mytsTrain72\",\n",
        "                    \"mytsTrain80\")\n",
        "\n",
        "\n",
        "mytsTrain8 = window(random_ad, start = c(1,1), end = c(8,6))\n",
        "mytsTrain16 = window(random_ad, start = c(1,1), end = c(16,6))\n",
        "mytsTrain24 = window(random_ad, start = c(1,1), end = c(24,6))\n",
        "mytsTrain32 = window(random_ad, start = c(1,1), end = c(32,6))\n",
        "mytsTrain40 = window(random_ad, start = c(1,1), end = c(40,6))\n",
        "mytsTrain48 = window(random_ad, start = c(1,1), end = c(48,6))\n",
        "mytsTrain56 = window(random_ad, start = c(1,1), end = c(56,6))\n",
        "mytsTrain64 = window(random_ad, start = c(1,1), end = c(64,6))\n",
        "mytsTrain72 = window(random_ad, start = c(1,1), end = c(72,6))\n",
        "mytsTrain80 = window(random_ad, start = c(1,1), end = c(80,6))"
      ]
    },
    {
      "cell_type": "code",
      "execution_count": 37,
      "metadata": {
        "id": "cSeH7dtRwxlF"
      },
      "outputs": [],
      "source": [
        "%%R\n",
        "\n",
        "mytsTest9 = window(random_ad, start = c(9,1), end = c(9,6))\n",
        "mytsTest17 = window(random_ad, start = c(17,1), end = c(17,6))\n",
        "mytsTest25 = window(random_ad, start = c(25,1), end = c(25,6))\n",
        "mytsTest33 = window(random_ad, start = c(33,1), end = c(33,6))\n",
        "mytsTest41 = window(random_ad, start = c(41,1), end = c(41,6))\n",
        "mytsTest49 = window(random_ad, start = c(49,1), end = c(49,6))\n",
        "mytsTest57 = window(random_ad, start = c(57,1), end = c(57,6))\n",
        "mytsTest65 = window(random_ad, start = c(65,1), end = c(65,6))\n",
        "mytsTest73 = window(random_ad, start = c(73,1), end = c(73,6))\n",
        "mytsTest81 = window(random_ad, start = c(81,1), end = c(81,6))"
      ]
    },
    {
      "cell_type": "markdown",
      "metadata": {
        "id": "xSiw6epbr776"
      },
      "source": [
        "### Teste de Estacionariedade (PRA)"
      ]
    },
    {
      "cell_type": "code",
      "execution_count": 47,
      "metadata": {
        "id": "5CHWhbNQDMvX"
      },
      "outputs": [],
      "source": [
        "%%R # Testes de Estacionariedade (PRA)\n",
        "\n",
        "adf_test = conjunto_treino = c(\n",
        "  adf.test(mytsTrain8)$statistic,\n",
        "  adf.test(mytsTrain16)$statistic,\n",
        "  adf.test(mytsTrain24)$statistic,\n",
        "  adf.test(mytsTrain32)$statistic,\n",
        "  adf.test(mytsTrain40)$statistic,\n",
        "  adf.test(mytsTrain48)$statistic,\n",
        "  adf.test(mytsTrain56)$statistic,\n",
        "  adf.test(mytsTrain64)$statistic,\n",
        "  adf.test(mytsTrain72)$statistic,\n",
        "  adf.test(mytsTrain80)$statistic\n",
        ")"
      ]
    },
    {
      "cell_type": "code",
      "execution_count": 48,
      "metadata": {
        "id": "ND6ZhqubfdkI"
      },
      "outputs": [],
      "source": [
        "%%R \n",
        "  adf_test_pvalue <- conjunto_treino <- c(\n",
        "  adf.test(mytsTrain8)$p.value,\n",
        "  adf.test(mytsTrain16)$p.value,\n",
        "  adf.test(mytsTrain24)$p.value,\n",
        "  adf.test(mytsTrain32)$p.value,\n",
        "  adf.test(mytsTrain40)$p.value,\n",
        "  adf.test(mytsTrain48)$p.value,\n",
        "  adf.test(mytsTrain56)$p.value,\n",
        "  adf.test(mytsTrain64)$p.value,\n",
        "  adf.test(mytsTrain72)$p.value,\n",
        "  adf.test(mytsTrain80)$p.value\n",
        ")"
      ]
    },
    {
      "cell_type": "code",
      "execution_count": 49,
      "metadata": {
        "id": "ki3Rx1SKfhMV"
      },
      "outputs": [],
      "source": [
        "%%R\n",
        "  kpss_test = conjunto_treino = c(\n",
        "  kpss.test(mytsTrain8)$statistic,\n",
        "  kpss.test(mytsTrain16)$statistic,\n",
        "  kpss.test(mytsTrain24)$statistic,\n",
        "  kpss.test(mytsTrain32)$statistic,\n",
        "  kpss.test(mytsTrain40)$statistic,\n",
        "  kpss.test(mytsTrain48)$statistic,\n",
        "  kpss.test(mytsTrain56)$statistic,\n",
        "  kpss.test(mytsTrain64)$statistic,\n",
        "  kpss.test(mytsTrain72)$statistic,\n",
        "  kpss.test(mytsTrain80)$statistic\n",
        ")"
      ]
    },
    {
      "cell_type": "code",
      "execution_count": 50,
      "metadata": {
        "id": "j_k8vWscflLN"
      },
      "outputs": [],
      "source": [
        "%%R\n",
        "  kpss_test_pvalue = conjunto_treino = c(\n",
        "  kpss.test(mytsTrain8)$p.value,\n",
        "  kpss.test(mytsTrain16)$p.value,\n",
        "  kpss.test(mytsTrain24)$p.value,\n",
        "  kpss.test(mytsTrain32)$p.value,\n",
        "  kpss.test(mytsTrain40)$p.value,\n",
        "  kpss.test(mytsTrain48)$p.value,\n",
        "  kpss.test(mytsTrain56)$p.value,\n",
        "  kpss.test(mytsTrain64)$p.value,\n",
        "  kpss.test(mytsTrain72)$p.value,\n",
        "  kpss.test(mytsTrain80)$p.value\n",
        ")"
      ]
    },
    {
      "cell_type": "code",
      "execution_count": 51,
      "metadata": {
        "colab": {
          "base_uri": "https://localhost:8080/"
        },
        "id": "2ZnfqEzwJKJD",
        "outputId": "f156f755-5927-4b28-82ce-98ab12f10e96"
      },
      "outputs": [
        {
          "name": "stdout",
          "output_type": "stream",
          "text": [
            "[1] 10\n",
            "[1] 10\n",
            "[1] 10\n",
            "[1] 10\n",
            "[1] 10\n"
          ]
        }
      ],
      "source": [
        "%%R\n",
        "\n",
        "print(length(conjunto_treino))\n",
        "print(length(adf_test))\n",
        "print(length(adf_test_pvalue))\n",
        "print(length(kpss_test))\n",
        "print(length(kpss_test_pvalue))"
      ]
    },
    {
      "cell_type": "code",
      "execution_count": 52,
      "metadata": {
        "colab": {
          "base_uri": "https://localhost:8080/"
        },
        "id": "AlTKH7wQfndk",
        "outputId": "f738e95e-065f-43e1-e388-526cd4469d71"
      },
      "outputs": [
        {
          "name": "stdout",
          "output_type": "stream",
          "text": [
            "   conjuntos_de_treino   ADF_Test ADF_Pvalue   KPSS_Test KPSS_Pvalue\n",
            "1                  0.1  -7.196008       0.01 0.072559244         0.1\n",
            "2                  0.1  -6.679546       0.01 0.025479610         0.1\n",
            "3                  0.1  -8.538409       0.01 0.018516368         0.1\n",
            "4                  0.1  -9.697529       0.01 0.090833556         0.1\n",
            "5                  0.1 -11.731447       0.01 0.010677652         0.1\n",
            "6                  0.1 -13.273753       0.01 0.012943429         0.1\n",
            "7                  0.1 -13.774169       0.01 0.011260624         0.1\n",
            "8                  0.1 -14.195772       0.01 0.008452423         0.1\n",
            "9                  0.1 -14.962220       0.01 0.009144122         0.1\n",
            "10                 0.1 -15.760231       0.01 0.007097237         0.1\n"
          ]
        }
      ],
      "source": [
        "%%R\n",
        "\n",
        "testes_estac = data.frame(conjuntos_de_treino = conjunto_treino,\n",
        "                          ADF_Test = adf_test, ADF_Pvalue = adf_test_pvalue,\n",
        "                          KPSS_Test = kpss_test, KPSS_Pvalue = kpss_test_pvalue)\n",
        "\n",
        "testes_estac"
      ]
    },
    {
      "cell_type": "markdown",
      "metadata": {
        "id": "NckcMnX_MzlW"
      },
      "source": [
        "‎Caso 1: Ambos os testes concluem que a série não está estacionária - A série não está parada‎\n",
        "\n",
        "‎Caso 2: Ambos os testes concluem que a série está parada - A série está parada‎\n",
        "\n",
        "‎Caso 3: KPSS indica estacionária e ADF indica não-estacionária - A série é tendência estacionária. A tendência precisa ser removida para tornar a série estacionária. A série de tendência é verificada para estacionazalidade.‎\n",
        "\n",
        "‎Caso 4: KPSS indica não-estacionária e ADF indica estacionária - A série é uma diferença estacionária. O diferenciamento deve ser usado para tornar a série estacionária. A série diferenciada é verificada para estacionaza.‎"
      ]
    },
    {
      "cell_type": "markdown",
      "metadata": {
        "id": "fOy0_srIXt-r"
      },
      "source": [
        "### Aplicação dos modelos de predição"
      ]
    },
    {
      "cell_type": "markdown",
      "metadata": {
        "id": "7-zI5iJ0SjG2"
      },
      "source": [
        "### Treinamento PRA - (ARIMA, Rede Neural, Holt-Winters)"
      ]
    },
    {
      "cell_type": "code",
      "execution_count": 72,
      "metadata": {
        "id": "vwzv-XShXsw-"
      },
      "outputs": [],
      "source": [
        "%%R # Treinamento ARIMA\n",
        "\n",
        "mytsArima8 = auto.arima(mytsTrain8)\n",
        "mytsArima16 = auto.arima(mytsTrain16)\n",
        "mytsArima24 = auto.arima(mytsTrain24)\n",
        "mytsArima32 = auto.arima(mytsTrain32)\n",
        "mytsArima40 = auto.arima(mytsTrain40)\n",
        "mytsArima48 = auto.arima(mytsTrain48)\n",
        "mytsArima56 = auto.arima(mytsTrain56)\n",
        "mytsArima64 = auto.arima(mytsTrain64)\n",
        "mytsArima72 = auto.arima(mytsTrain72)\n",
        "mytsArima80 = auto.arima(mytsTrain80)"
      ]
    },
    {
      "cell_type": "code",
      "execution_count": 54,
      "metadata": {
        "id": "ZFm5O-O7SZBV"
      },
      "outputs": [],
      "source": [
        "%%R # Treinamento Neural\n",
        "\n",
        "mytsNeural8 = nnetar(mytsTrain8)\n",
        "mytsNeural16 = nnetar(mytsTrain16)\n",
        "mytsNeural24 = nnetar(mytsTrain24)\n",
        "mytsNeural32 = nnetar(mytsTrain32)\n",
        "mytsNeural40 = nnetar(mytsTrain40)\n",
        "mytsNeural48 = nnetar(mytsTrain48)\n",
        "mytsNeural56 = nnetar(mytsTrain56)\n",
        "mytsNeural64 = nnetar(mytsTrain64)\n",
        "mytsNeural72 = nnetar(mytsTrain72)\n",
        "mytsNeural80 = nnetar(mytsTrain80)"
      ]
    },
    {
      "cell_type": "code",
      "execution_count": 67,
      "metadata": {
        "id": "eckWqbtqTUvm"
      },
      "outputs": [],
      "source": [
        "%%R # Treinamento Holt-Winters\n",
        "\n",
        "mytsHoltETS8 = ets(mytsTrain8, model = 'ZAA', damped = T)\n",
        "mytsHoltETS16 = ets(mytsTrain16, model = 'ZAA', damped = T)\n",
        "mytsHoltETS24 = ets(mytsTrain24, model = 'ZAA', damped = T)\n",
        "mytsHoltETS32 = ets(mytsTrain32, model = 'ZAA', damped = T)\n",
        "mytsHoltETS40 = ets(mytsTrain40, model = 'ZAA', damped = T)\n",
        "mytsHoltETS48 = ets(mytsTrain48, model = 'ZAA', damped = T)\n",
        "mytsHoltETS56 = ets(mytsTrain56, model = 'ZAA', damped = T)\n",
        "mytsHoltETS64 = ets(mytsTrain64, model = 'ZAA', damped = T)\n",
        "mytsHoltETS72 = ets(mytsTrain72, model = 'ZAA', damped = T)\n",
        "mytsHoltETS80 = ets(mytsTrain80, model = 'ZAA', damped = T)"
      ]
    },
    {
      "cell_type": "markdown",
      "metadata": {
        "id": "j99J18ArUocL"
      },
      "source": [
        "### Previsões"
      ]
    },
    {
      "cell_type": "code",
      "execution_count": 75,
      "metadata": {
        "id": "_OegzVznTtId"
      },
      "outputs": [],
      "source": [
        "%%R # Previsão ARIMA\n",
        "\n",
        "prevArima8 = forecast(mytsArima8, h=6)\n",
        "prevArima16 = forecast(mytsArima16, h=6)\n",
        "prevArima24 = forecast(mytsArima24, h=6)\n",
        "prevArima32 = forecast(mytsArima32, h=6)\n",
        "prevArima40 = forecast(mytsArima40, h=6)\n",
        "prevArima48 = forecast(mytsArima48, h=6)\n",
        "prevArima56 = forecast(mytsArima56, h=6)\n",
        "prevArima64 = forecast(mytsArima64, h=6)\n",
        "prevArima72 = forecast(mytsArima72, h=6)\n",
        "prevArima80 = forecast(mytsArima80, h=6)"
      ]
    },
    {
      "cell_type": "code",
      "execution_count": 77,
      "metadata": {
        "id": "5wRUkgciVLft"
      },
      "outputs": [],
      "source": [
        "%%R # Previsão com Rede Neural\n",
        "\n",
        "prevNeural8 = forecast(mytsNeural8, h=6)\n",
        "prevNeural16 = forecast(mytsNeural16, h=6)\n",
        "prevNeural24 = forecast(mytsNeural24, h=6)\n",
        "prevNeural32 = forecast(mytsNeural32, h=6)\n",
        "prevNeural40 = forecast(mytsNeural40, h=6)\n",
        "prevNeural48 = forecast(mytsNeural48, h=6)\n",
        "prevNeural56 = forecast(mytsNeural56, h=6)\n",
        "prevNeural64 = forecast(mytsNeural64, h=6)\n",
        "prevNeural72 = forecast(mytsNeural72, h=6)\n",
        "prevNeural80 = forecast(mytsNeural80, h=6)"
      ]
    },
    {
      "cell_type": "code",
      "execution_count": 78,
      "metadata": {
        "id": "T0b5i6vjVY9k"
      },
      "outputs": [],
      "source": [
        "%%R # Previsões Holt-Winters\n",
        "\n",
        "prevHolt8 = forecast(mytsHoltETS8, h=6)\n",
        "prevHolt16 = forecast(mytsHoltETS16, h=6)\n",
        "prevHolt24 = forecast(mytsHoltETS24, h=6)\n",
        "prevHolt32 = forecast(mytsHoltETS32, h=6)\n",
        "prevHolt40 = forecast(mytsHoltETS40, h=6)\n",
        "prevHolt48 = forecast(mytsHoltETS48, h=6)\n",
        "prevHolt56 = forecast(mytsHoltETS56, h=6)\n",
        "prevHolt64 = forecast(mytsHoltETS64, h=6)\n",
        "prevHolt72 = forecast(mytsHoltETS72, h=6)\n",
        "prevHolt80 = forecast(mytsHoltETS80, h=6)"
      ]
    },
    {
      "cell_type": "code",
      "execution_count": null,
      "metadata": {
        "id": "RQ4STEjOLbJT"
      },
      "outputs": [],
      "source": [
        "%%R -w 1200 -h 600\n",
        "\n",
        "par(mfrow = c(3,1))\n",
        "plot(prevArima24)\n",
        "plot(prevHolt24)\n",
        "plot(prevNeural24)"
      ]
    },
    {
      "cell_type": "markdown",
      "metadata": {
        "id": "RGWsUeXotbCh"
      },
      "source": [
        "### Plots - Comparação de alguns ciclos"
      ]
    },
    {
      "cell_type": "code",
      "execution_count": 85,
      "metadata": {
        "colab": {
          "base_uri": "https://localhost:8080/",
          "height": 417
        },
        "id": "ns9e6c3lV5Z9",
        "outputId": "1fa5c078-cf5a-4b3d-fc59-38b79349a885"
      },
      "outputs": [
        {
          "data": {
            "image/png": "[encoded data removed]"
          },
          "metadata": {},
          "output_type": "display_data"
        }
      ],
      "source": [
        "%%R -h 400 -w 1000 # ciclo 10\n",
        "\n",
        "par(mfrow = c(3, 1))\n",
        "plot(mytsTest81, main=\"Comparação da previsão Arima e série original (ciclo 9)\", xlab=\"Ciclo\", ylab=\"bandwidth (bit/s)\")\n",
        "lines(prevArima80$mean, col=\"red\")\n",
        "legend(\"topleft\", legend = c(\"Original\", \"Arima\"), col = c(\"black\", \"red\"), lty=1:1, cex=0.8, bty = \"n\", horiz=T)\n",
        "\n",
        "plot(mytsTest81, main=\"Comparação da previsão Holt e série original (ciclo 10)\", xlab=\"Ciclo\", ylab=\"bandwidth (bit/s)\")\n",
        "lines(prevHolt80$mean, col=\"green\")\n",
        "legend(\"topleft\", legend = c(\"Série Original\", \"Holt\"), col = c(\"black\", \"green\"), lty=1:1, cex=0.8, bty = \"n\", horiz=T)\n",
        "\n",
        "plot(mytsTest81, main=\"Comparação da previsão Neural e série original (ciclo 10)\", xlab=\"Ciclo\", ylab=\"bandwidth (bit/s)\")\n",
        "lines(prevNeural80$mean, col=\"blue\")\n",
        "legend(\"topleft\", legend = c(\"Série Original\", \"Neural\"), col = c(\"black\", \"blue\"), lty=1:1, cex=0.8, bty = \"n\", horiz=T)"
      ]
    },
    {
      "cell_type": "code",
      "execution_count": null,
      "metadata": {
        "id": "JvBKnHKwsnWR"
      },
      "outputs": [],
      "source": [
        "%%R -h 250 -w 1500 # Autocorrelação dos conjuntos de treinamento (Indica dados estacionários)\n",
        "\n",
        "par(mfrow = c(1, 4))\n",
        "acf(mytsTrain8, main = \"1\")\n",
        "acf(mytsTrain16, main = \"2\")\n",
        "acf(mytsTrain24, main = \"3\")\n",
        "acf(mytsTrain32, main = \"4\")\n",
        "acf(mytsTrain40, main = \"5\")\n",
        "acf(mytsTrain48, main = \"6\")\n",
        "acf(mytsTrain56, main = \"7\")\n"
      ]
    },
    {
      "cell_type": "markdown",
      "metadata": {
        "id": "zZ1MQ2IhtfBW"
      },
      "source": [
        "## Avaliação"
      ]
    },
    {
      "cell_type": "markdown",
      "metadata": {
        "id": "A9gO3rsCv5yV"
      },
      "source": [
        "### RMSE"
      ]
    },
    {
      "cell_type": "code",
      "execution_count": 131,
      "metadata": {
        "colab": {
          "base_uri": "https://localhost:8080/",
          "height": 532
        },
        "id": "emrOOPO-u4vY",
        "outputId": "37017000-3174-4006-922b-d702afb7b1c8"
      },
      "outputs": [
        {
          "name": "stdout",
          "output_type": "stream",
          "text": [
            " [1]  6399841  7024490  5765819 16472660  5472001 23269798  6531106  9881246\n",
            " [9]  3896358  3391666\n"
          ]
        },
        {
          "data": {
            "image/png": "[encoded data removed]"
          },
          "metadata": {},
          "output_type": "display_data"
        }
      ],
      "source": [
        "%%R\n",
        "\n",
        "Neural_RMSE_inOrder = c(\n",
        "  rmse(mytsTest9, prevNeural8$mean),\n",
        "  rmse(mytsTest17, prevNeural16$mean),\n",
        "  rmse(mytsTest25, prevNeural24$mean),\n",
        "  rmse(mytsTest33, prevNeural32$mean),\n",
        "  rmse(mytsTest41, prevNeural40$mean),\n",
        "  rmse(mytsTest49, prevNeural48$mean),\n",
        "  rmse(mytsTest57, prevNeural56$mean),\n",
        "  rmse(mytsTest65, prevNeural64$mean),\n",
        "  rmse(mytsTest73, prevNeural72$mean),\n",
        "  rmse(mytsTest81, prevNeural80$mean)\n",
        ")\n",
        "print(Neural_RMSE_inOrder)\n",
        "barplot(Neural_RMSE_inOrder)"
      ]
    },
    {
      "cell_type": "code",
      "execution_count": 130,
      "metadata": {
        "colab": {
          "base_uri": "https://localhost:8080/",
          "height": 532
        },
        "id": "rlJeEOTLvTcF",
        "outputId": "d89329aa-bb71-44df-d103-e6f94cb0fe6d"
      },
      "outputs": [
        {
          "name": "stdout",
          "output_type": "stream",
          "text": [
            " [1]  4181922  4208767  4240600 22961964  5459360 24712492  4564876  7165645\n",
            " [9]  3361259  3253587\n"
          ]
        },
        {
          "data": {
            "image/png": "[encoded data removed]"
          },
          "metadata": {},
          "output_type": "display_data"
        }
      ],
      "source": [
        "%%R\n",
        "\n",
        "Holt_RMSE_inOrder = c(\n",
        "  rmse(mytsTest9, prevHolt8$mean),\n",
        "  rmse(mytsTest17, prevHolt16$mean),\n",
        "  rmse(mytsTest25, prevHolt24$mean),\n",
        "  rmse(mytsTest33, prevHolt32$mean),\n",
        "  rmse(mytsTest41, prevHolt40$mean),\n",
        "  rmse(mytsTest49, prevHolt48$mean),\n",
        "  rmse(mytsTest57, prevHolt56$mean),\n",
        "  rmse(mytsTest65, prevHolt64$mean),\n",
        "  rmse(mytsTest73, prevHolt72$mean),\n",
        "  rmse(mytsTest81, prevHolt80$mean)\n",
        ")\n",
        "print(Holt_RMSE_inOrder)\n",
        "barplot(Holt_RMSE_inOrder)"
      ]
    },
    {
      "cell_type": "code",
      "execution_count": 129,
      "metadata": {
        "colab": {
          "base_uri": "https://localhost:8080/",
          "height": 532
        },
        "id": "fquNjNiVteNx",
        "outputId": "ed0a750b-e4be-4a82-8020-7e6e5063b648"
      },
      "outputs": [
        {
          "name": "stdout",
          "output_type": "stream",
          "text": [
            " [1]  3432837  4958756  4799537 20609523  5634978 25176662  3809726  6444677\n",
            " [9]  2842307  3238252\n"
          ]
        },
        {
          "data": {
            "image/png": "[encoded data removed]"
          },
          "metadata": {},
          "output_type": "display_data"
        }
      ],
      "source": [
        "%%R \n",
        "\n",
        "Arima_RMSE_inOrder = c(\n",
        "  rmse(mytsTest9, prevArima8$mean),\n",
        "  rmse(mytsTest17, prevArima16$mean),\n",
        "  rmse(mytsTest25, prevArima24$mean),\n",
        "  rmse(mytsTest33, prevArima32$mean),\n",
        "  rmse(mytsTest41, prevArima40$mean),\n",
        "  rmse(mytsTest49, prevArima48$mean),\n",
        "  rmse(mytsTest57, prevArima56$mean),\n",
        "  rmse(mytsTest65, prevArima64$mean),\n",
        "  rmse(mytsTest73, prevArima72$mean),\n",
        "  rmse(mytsTest81, prevArima80$mean)\n",
        ")\n",
        "\n",
        "print(Arima_RMSE_inOrder)\n",
        "barplot(Arima_RMSE_inOrder)"
      ]
    },
    {
      "cell_type": "code",
      "execution_count": null,
      "metadata": {},
      "outputs": [],
      "source": [
        "%%R \n",
        "\n",
        "numeroCiclos = c(9, 17, 25, 33, 41, 49, 57, 65,\n",
        "                 73, 81)\n",
        "                 \n",
        "RMSE = data.frame(Observacoes = numeroCiclos, PRA_NeuralRMSE = Neural_RMSE_inOrder,\n",
        "                  NeuralRMSE = Neural_RMSE_inOrder,  PRA_ArimaRMSE = Arima_RMSE_inOrder,\n",
        "                  ArimaRMSE = Arima_RMSE_inOrder, PRA_HoltRMSE = Holt_RMSE_inOrder,\n",
        "                  HoltRMSE = Holt_RMSE_inOrder)\n",
        "\n",
        "colnames(RMSE) = c(\"Observacoes\",\"RMSE:PRA+Neural\", \"RMSE:Neural\", \"RMSE:PRA+Arima\",\n",
        "                   \"RMSE:Arima\", \"RMSE:PRA+HoltWinters\", \"RMSE:HoltWinters\")"
      ]
    },
    {
      "cell_type": "markdown",
      "metadata": {
        "id": "02EMo_Z_v8ZQ"
      },
      "source": [
        "### MAPE"
      ]
    },
    {
      "cell_type": "code",
      "execution_count": 122,
      "metadata": {
        "colab": {
          "base_uri": "https://localhost:8080/",
          "height": 532
        },
        "id": "-IFHKMi7wAZX",
        "outputId": "d51341a6-47b9-4c5e-8ad1-23508dce8048"
      },
      "outputs": [
        {
          "name": "stdout",
          "output_type": "stream",
          "text": [
            " [1]  4.4910730  1.8525622  1.3868252  0.8114197  1.9099273  1.3333894\n",
            " [7]  2.2508356  1.8417302 55.2757689  2.4001348\n"
          ]
        },
        {
          "data": {
            "image/png": "[encoded data removed]"
          },
          "metadata": {},
          "output_type": "display_data"
        }
      ],
      "source": [
        "%%R\n",
        "\n",
        "Neural_mape_inOrder = c(\n",
        "  mape(mytsTest9, prevNeural8$mean),\n",
        "  mape(mytsTest17, prevNeural16$mean),\n",
        "  mape(mytsTest25, prevNeural24$mean),\n",
        "  mape(mytsTest33, prevNeural32$mean),\n",
        "  mape(mytsTest41, prevNeural40$mean),\n",
        "  mape(mytsTest49, prevNeural48$mean),\n",
        "  mape(mytsTest57, prevNeural56$mean),\n",
        "  mape(mytsTest65, prevNeural64$mean),\n",
        "  mape(mytsTest73, prevNeural72$mean),\n",
        "  mape(mytsTest81, prevNeural80$mean)\n",
        ")\n",
        "print(Neural_mape_inOrder)\n",
        "barplot(Neural_mape_inOrder)"
      ]
    },
    {
      "cell_type": "code",
      "execution_count": 128,
      "metadata": {
        "colab": {
          "base_uri": "https://localhost:8080/",
          "height": 497
        },
        "id": "sGbU6L95-QCt",
        "outputId": "d9286771-bf51-464f-b2d3-19ef1878cc2f"
      },
      "outputs": [
        {
          "data": {
            "image/png": "[encoded data removed]"
          },
          "metadata": {},
          "output_type": "display_data"
        }
      ],
      "source": [
        "%%R\n",
        "\n",
        "par(mfrow=c(2,1))\n",
        "plot(mytsTest33)\n",
        "plot(prevNeural32$mean)"
      ]
    },
    {
      "cell_type": "code",
      "execution_count": 114,
      "metadata": {
        "colab": {
          "base_uri": "https://localhost:8080/",
          "height": 532
        },
        "id": "nTDNh7s-wPfe",
        "outputId": "d20afebd-b70c-498f-890b-72ec6c464a66"
      },
      "outputs": [
        {
          "name": "stdout",
          "output_type": "stream",
          "text": [
            " [1]  1.0000000  1.0000000  0.9973857  1.0200275  3.6534387  0.9015788\n",
            " [7]  1.3023046  0.9833408 10.5452108  1.4041482\n"
          ]
        },
        {
          "data": {
            "image/png": "[encoded data removed]"
          },
          "metadata": {},
          "output_type": "display_data"
        }
      ],
      "source": [
        "%%R\n",
        "\n",
        "Arima_mape_inOrder = c(\n",
        "  mape(mytsTest9, prevArima8$mean),\n",
        "  mape(mytsTest17, prevArima16$mean),\n",
        "  mape(mytsTest25, prevArima24$mean),\n",
        "  mape(mytsTest33, prevArima32$mean),\n",
        "  mape(mytsTest41, prevArima40$mean),\n",
        "  mape(mytsTest49, prevArima48$mean),\n",
        "  mape(mytsTest57, prevArima56$mean),\n",
        "  mape(mytsTest65, prevArima64$mean),\n",
        "  mape(mytsTest73, prevArima72$mean),\n",
        "  mape(mytsTest81, prevArima80$mean)\n",
        ")\n",
        "\n",
        "print(Arima_mape_inOrder)\n",
        "barplot(Arima_mape_inOrder)"
      ]
    },
    {
      "cell_type": "code",
      "execution_count": 121,
      "metadata": {
        "colab": {
          "base_uri": "https://localhost:8080/",
          "height": 497
        },
        "id": "out0pcw89Z_n",
        "outputId": "cbd8ea99-be28-4a9f-fa90-a8d21cd39419"
      },
      "outputs": [
        {
          "data": {
            "image/png": "[encoded data removed]"
          },
          "metadata": {},
          "output_type": "display_data"
        }
      ],
      "source": [
        "%%R\n",
        "\n",
        "par(mfrow=c(2,1))\n",
        "plot(mytsTest41)\n",
        "plot(prevArima40$mean)"
      ]
    },
    {
      "cell_type": "code",
      "execution_count": 113,
      "metadata": {
        "colab": {
          "base_uri": "https://localhost:8080/",
          "height": 532
        },
        "id": "KcGPldO6wPwy",
        "outputId": "df4850d9-7058-4e22-f5ea-905d20d72f70"
      },
      "outputs": [
        {
          "name": "stdout",
          "output_type": "stream",
          "text": [
            " [1] 1.9847218 0.7648853 0.8162920 1.0980969 2.9067681 1.1500541 1.1344726\n",
            " [8] 1.1198688 4.2053714 1.1252140\n"
          ]
        },
        {
          "data": {
            "image/png": "[encoded data removed]"
          },
          "metadata": {},
          "output_type": "display_data"
        }
      ],
      "source": [
        "%%R\n",
        "\n",
        "Holt_mape_inOrder = c(\n",
        "  mape(mytsTest9, prevHolt8$mean),\n",
        "  mape(mytsTest17, prevHolt16$mean),\n",
        "  mape(mytsTest25, prevHolt24$mean),\n",
        "  mape(mytsTest33, prevHolt32$mean),\n",
        "  mape(mytsTest41, prevHolt40$mean),\n",
        "  mape(mytsTest49, prevHolt48$mean),\n",
        "  mape(mytsTest57, prevHolt56$mean),\n",
        "  mape(mytsTest65, prevHolt64$mean),\n",
        "  mape(mytsTest73, prevHolt72$mean),\n",
        "  mape(mytsTest81, prevHolt80$mean)\n",
        ")\n",
        "\n",
        "print(Holt_mape_inOrder)\n",
        "barplot(Holt_mape_inOrder)"
      ]
    },
    {
      "cell_type": "markdown",
      "metadata": {},
      "source": [
        "### Sem PRA"
      ]
    },
    {
      "cell_type": "code",
      "execution_count": 1,
      "metadata": {},
      "outputs": [
        {
          "name": "stderr",
          "output_type": "stream",
          "text": [
            "UsageError: Cell magic `%%R` not found.\n"
          ]
        }
      ],
      "source": [
        "%%R\n",
        "\n",
        "conjunto_treino_without_PRA = c(\"mytsTrain_without_PRA8\",\n",
        "                    \"mytsTrain_without_PRA16\",\n",
        "                    \"mytsTrain_without_PRA24\",\n",
        "                    \"mytsTrain_without_PRA32\",\n",
        "                    \"mytsTrain_without_PRA40\",\n",
        "                    \"mytsTrain_without_PRA48\",\n",
        "                    \"mytsTrain_without_PRA56\",\n",
        "                    \"mytsTrain_without_PRA64\",\n",
        "                    \"mytsTrain_without_PRA72\",\n",
        "                    \"mytsTrain_without_PRA80\")\n",
        "\n",
        "\n",
        "mytsTrain_without_PRA8 = window(TSbbr, start = c(1,1), end = c(8,6))\n",
        "mytsTrain_without_PRA16 = window(TSbbr, start = c(1,1), end = c(16,6))\n",
        "mytsTrain_without_PRA24 = window(TSbbr, start = c(1,1), end = c(24,6))\n",
        "mytsTrain_without_PRA32 = window(TSbbr, start = c(1,1), end = c(32,6))\n",
        "mytsTrain_without_PRA40 = window(TSbbr, start = c(1,1), end = c(40,6))\n",
        "mytsTrain_without_PRA48 = window(TSbbr, start = c(1,1), end = c(48,6))\n",
        "mytsTrain_without_PRA56 = window(TSbbr, start = c(1,1), end = c(56,6))\n",
        "mytsTrain_without_PRA64 = window(TSbbr, start = c(1,1), end = c(64,6))\n",
        "mytsTrain_without_PRA72 = window(TSbbr, start = c(1,1), end = c(72,6))\n",
        "mytsTrain_without_PRA80 = window(TSbbr, start = c(1,1), end = c(80,6))"
      ]
    },
    {
      "cell_type": "code",
      "execution_count": null,
      "metadata": {},
      "outputs": [],
      "source": [
        "%%R\n",
        "\n",
        "mytsTest_without_PRA9 = window(TSbbr, start = c(9,1), end = c(9,6))\n",
        "mytsTest_without_PRA17 = window(TSbbr, start = c(17,1), end = c(17,6))\n",
        "mytsTest_without_PRA25 = window(TSbbr, start = c(25,1), end = c(25,6))\n",
        "mytsTest_without_PRA33 = window(TSbbr, start = c(33,1), end = c(33,6))\n",
        "mytsTest_without_PRA41 = window(TSbbr, start = c(41,1), end = c(41,6))\n",
        "mytsTest_without_PRA49 = window(TSbbr, start = c(49,1), end = c(49,6))\n",
        "mytsTest_without_PRA57 = window(TSbbr, start = c(57,1), end = c(57,6))\n",
        "mytsTest_without_PRA65 = window(TSbbr, start = c(65,1), end = c(65,6))\n",
        "mytsTest_without_PRA73 = window(TSbbr, start = c(73,1), end = c(73,6))\n",
        "mytsTest_without_PRA81 = window(TSbbr, start = c(81,1), end = c(81,6))"
      ]
    },
    {
      "cell_type": "code",
      "execution_count": null,
      "metadata": {},
      "outputs": [],
      "source": [
        "%%R # Treinamento ARIMA\n",
        "\n",
        "mytsArima_without_PRA8 = auto.arima(mytsTrain_without_PRA8)\n",
        "mytsArima_without_PRA16 = auto.arima(mytsTrain_without_PRA16)\n",
        "mytsArima_without_PRA24 = auto.arima(mytsTrain_without_PRA24)\n",
        "mytsArima_without_PRA32 = auto.arima(mytsTrain_without_PRA32)\n",
        "mytsArima_without_PRA40 = auto.arima(mytsTrain_without_PRA40)\n",
        "mytsArima_without_PRA48 = auto.arima(mytsTrain_without_PRA48)\n",
        "mytsArima_without_PRA56 = auto.arima(mytsTrain_without_PRA56)\n",
        "mytsArima_without_PRA64 = auto.arima(mytsTrain_without_PRA64)\n",
        "mytsArima_without_PRA72 = auto.arima(mytsTrain_without_PRA72)\n",
        "mytsArima_without_PRA80 = auto.arima(mytsTrain_without_PRA80)"
      ]
    },
    {
      "cell_type": "code",
      "execution_count": null,
      "metadata": {},
      "outputs": [],
      "source": [
        "%%R # Treinamento Neural\n",
        "\n",
        "mytsNeural_without_PRA8 = nnetar(mytsTrain_without_PRA8)\n",
        "mytsNeural_without_PRA16 = nnetar(mytsTrain_without_PRA16)\n",
        "mytsNeural_without_PRA24 = nnetar(mytsTrain_without_PRA24)\n",
        "mytsNeural_without_PRA32 = nnetar(mytsTrain_without_PRA32)\n",
        "mytsNeural_without_PRA40 = nnetar(mytsTrain_without_PRA40)\n",
        "mytsNeural_without_PRA48 = nnetar(mytsTrain_without_PRA48)\n",
        "mytsNeural_without_PRA56 = nnetar(mytsTrain_without_PRA56)\n",
        "mytsNeural_without_PRA64 = nnetar(mytsTrain_without_PRA64)\n",
        "mytsNeural_without_PRA72 = nnetar(mytsTrain_without_PRA72)\n",
        "mytsNeural_without_PRA80 = nnetar(mytsTrain_without_PRA80)"
      ]
    },
    {
      "cell_type": "code",
      "execution_count": null,
      "metadata": {},
      "outputs": [],
      "source": [
        "%%R # Treinamento Holt-Winters\n",
        "\n",
        "mytsHoltETS_without_PRA8 = ets(mytsTrain_without_PRA8, model = 'ZAA', damped = T)\n",
        "mytsHoltETS_without_PRA16 = ets(mytsTrain_without_PRA16, model = 'ZAA', damped = T)\n",
        "mytsHoltETS_without_PRA24 = ets(mytsTrain_without_PRA24, model = 'ZAA', damped = T)\n",
        "mytsHoltETS_without_PRA32 = ets(mytsTrain_without_PRA32, model = 'ZAA', damped = T)\n",
        "mytsHoltETS_without_PRA40 = ets(mytsTrain_without_PRA40, model = 'ZAA', damped = T)\n",
        "mytsHoltETS_without_PRA48 = ets(mytsTrain_without_PRA48, model = 'ZAA', damped = T)\n",
        "mytsHoltETS_without_PRA56 = ets(mytsTrain_without_PRA56, model = 'ZAA', damped = T)\n",
        "mytsHoltETS_without_PRA64 = ets(mytsTrain_without_PRA64, model = 'ZAA', damped = T)\n",
        "mytsHoltETS_without_PRA72 = ets(mytsTrain_without_PRA72, model = 'ZAA', damped = T)\n",
        "mytsHoltETS_without_PRA80 = ets(mytsTrain_without_PRA80, model = 'ZAA', damped = T)"
      ]
    },
    {
      "cell_type": "code",
      "execution_count": null,
      "metadata": {},
      "outputs": [],
      "source": [
        "%%R # Previsão ARIMA\n",
        "\n",
        "prevArima_without_PRA8 = forecast(mytsArima_without_PRA8, h=6)\n",
        "prevArima_without_PRA16 = forecast(mytsArima_without_PRA16, h=6)\n",
        "prevArima_without_PRA24 = forecast(mytsArima_without_PRA24, h=6)\n",
        "prevArima_without_PRA32 = forecast(mytsArima_without_PRA32, h=6)\n",
        "prevArima_without_PRA40 = forecast(mytsArima_without_PRA40, h=6)\n",
        "prevArima_without_PRA48 = forecast(mytsArima_without_PRA48, h=6)\n",
        "prevArima_without_PRA56 = forecast(mytsArima_without_PRA56, h=6)\n",
        "prevArima_without_PRA64 = forecast(mytsArima_without_PRA64, h=6)\n",
        "prevArima_without_PRA72 = forecast(mytsArima_without_PRA72, h=6)\n",
        "prevArima_without_PRA80 = forecast(mytsArima_without_PRA80, h=6)"
      ]
    },
    {
      "cell_type": "code",
      "execution_count": null,
      "metadata": {},
      "outputs": [],
      "source": [
        "%%R # Previsão com Rede Neural\n",
        "\n",
        "prevNeural_without_PRA8 = forecast(mytsNeural_without8, h=6)\n",
        "prevNeural_without_PRA16 = forecast(mytsNeural_without16, h=6)\n",
        "prevNeural_without_PRA24 = forecast(mytsNeural_without24, h=6)\n",
        "prevNeural_without_PRA32 = forecast(mytsNeural_without32, h=6)\n",
        "prevNeural_without_PRA40 = forecast(mytsNeural_without40, h=6)\n",
        "prevNeural_without_PRA48 = forecast(mytsNeural_without48, h=6)\n",
        "prevNeural_without_PRA56 = forecast(mytsNeural_without56, h=6)\n",
        "prevNeural_without_PRA64 = forecast(mytsNeural_without64, h=6)\n",
        "prevNeural_without_PRA72 = forecast(mytsNeural_without72, h=6)\n",
        "prevNeural_without_PRA80 = forecast(mytsNeural_without80, h=6)"
      ]
    },
    {
      "cell_type": "code",
      "execution_count": null,
      "metadata": {},
      "outputs": [],
      "source": [
        "%%R # Previsões Holt-Winters\n",
        "\n",
        "prevHolt_without_PRA8 = forecast(mytsHoltETS_without_PRA8, h=6)\n",
        "prevHolt_without_PRA16 = forecast(mytsHoltETS_without_PRA16, h=6)\n",
        "prevHolt_without_PRA24 = forecast(mytsHoltETS_without_PRA24, h=6)\n",
        "prevHolt_without_PRA32 = forecast(mytsHoltETS_without_PRA32, h=6)\n",
        "prevHolt_without_PRA40 = forecast(mytsHoltETS_without_PRA40, h=6)\n",
        "prevHolt_without_PRA48 = forecast(mytsHoltETS_without_PRA48, h=6)\n",
        "prevHolt_without_PRA56 = forecast(mytsHoltETS_without_PRA56, h=6)\n",
        "prevHolt_without_PRA64 = forecast(mytsHoltETS_without_PRA64, h=6)\n",
        "prevHolt_without_PRA72 = forecast(mytsHoltETS_without_PRA72, h=6)\n",
        "prevHolt_without_PRA80 = forecast(mytsHoltETS_without_PRA80, h=6)"
      ]
    },
    {
      "cell_type": "markdown",
      "metadata": {},
      "source": [
        "## Avaliaçōes Sem PRA"
      ]
    },
    {
      "cell_type": "markdown",
      "metadata": {},
      "source": [
        "### RMSE"
      ]
    },
    {
      "cell_type": "code",
      "execution_count": null,
      "metadata": {},
      "outputs": [],
      "source": [
        "%%R\n",
        "\n",
        "Neural_without_PRA_mape_inOrder = c(\n",
        "  mape(mytsTest_without_PRA9, prevNeural_without_PRA8$mean),\n",
        "  mape(mytsTest_without_PRA17, prevNeural_without_PRA16$mean),\n",
        "  mape(mytsTest_without_PRA25, prevNeural_without_PRA24$mean),\n",
        "  mape(mytsTest_without_PRA33, prevNeural_without_PRA32$mean),\n",
        "  mape(mytsTest_without_PRA41, prevNeural_without_PRA40$mean),\n",
        "  mape(mytsTest_without_PRA49, prevNeural_without_PRA48$mean),\n",
        "  mape(mytsTest_without_PRA57, prevNeural_without_PRA56$mean),\n",
        "  mape(mytsTest_without_PRA65, prevNeural_without_PRA64$mean),\n",
        "  mape(mytsTest_without_PRA73, prevNeural_without_PRA72$mean),\n",
        "  mape(mytsTest_without_PRA81, prevNeural_without_PRA80$mean)\n",
        ")"
      ]
    },
    {
      "cell_type": "code",
      "execution_count": null,
      "metadata": {},
      "outputs": [],
      "source": [
        "%%R\n",
        "\n",
        "Arima_without_PRA_mape_inOrder = c(\n",
        "  mape(mytsTest_without_PRA9, prevArima_without_PRA8$mean),\n",
        "  mape(mytsTest_without_PRA17, prevArima_without_PRA16$mean),\n",
        "  mape(mytsTest_without_PRA25, prevArima_without_PRA24$mean),\n",
        "  mape(mytsTest_without_PRA33, prevArima_without_PRA32$mean),\n",
        "  mape(mytsTest_without_PRA41, prevArima_without_PRA40$mean),\n",
        "  mape(mytsTest_without_PRA49, prevArima_without_PRA48$mean),\n",
        "  mape(mytsTest_without_PRA57, prevArima_without_PRA56$mean),\n",
        "  mape(mytsTest_without_PRA65, prevArima_without_PRA64$mean),\n",
        "  mape(mytsTest_without_PRA73, prevArima_without_PRA72$mean),\n",
        "  mape(mytsTest_without_PRA81, prevArima_without_PRA80$mean)\n",
        ")"
      ]
    },
    {
      "cell_type": "code",
      "execution_count": null,
      "metadata": {},
      "outputs": [],
      "source": [
        "%%R\n",
        "\n",
        "Holt_without_PRA_mape_inOrder = c(\n",
        "  mape(mytsTest_without_PRA9, prevHolt_without_PRA8$mean),\n",
        "  mape(mytsTest_without_PRA17, prevHolt_without_PRA16$mean),\n",
        "  mape(mytsTest_without_PRA25, prevHolt_without_PRA24$mean),\n",
        "  mape(mytsTest_without_PRA33, prevHolt_without_PRA32$mean),\n",
        "  mape(mytsTest_without_PRA41, prevHolt_without_PRA40$mean),\n",
        "  mape(mytsTest_without_PRA49, prevHolt_without_PRA48$mean),\n",
        "  mape(mytsTest_without_PRA57, prevHolt_without_PRA56$mean),\n",
        "  mape(mytsTest_without_PRA65, prevHolt_without_PRA64$mean),\n",
        "  mape(mytsTest_without_PRA73, prevHolt_without_PRA72$mean),\n",
        "  mape(mytsTest_without_PRA81, prevHolt_without_PRA80$mean)\n",
        ")\n"
      ]
    }
  ],
  "metadata": {
    "colab": {
      "collapsed_sections": [
        "pxfQJWh1t_yk",
        "6tZJsFmkuRFy"
      ],
      "provenance": []
    },
    "kernelspec": {
      "display_name": "Python 3.10.6 64-bit",
      "language": "python",
      "name": "python3"
    },
    "language_info": {
      "codemirror_mode": {
        "name": "ipython",
        "version": 3
      },
      "file_extension": ".py",
      "mimetype": "text/x-python",
      "name": "python",
      "nbconvert_exporter": "python",
      "pygments_lexer": "ipython3",
      "version": "3.10.6"
    },
    "vscode": {
      "interpreter": {
        "hash": "916dbcbb3f70747c44a77c7bcd40155683ae19c65e1c03b4aa3499c5328201f1"
      }
    }
  },
  "nbformat": 4,
  "nbformat_minor": 0
}
